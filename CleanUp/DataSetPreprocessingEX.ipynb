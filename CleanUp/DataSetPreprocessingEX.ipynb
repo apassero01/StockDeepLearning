{
 "cells": [
  {
   "cell_type": "code",
   "execution_count": 9,
   "metadata": {},
   "outputs": [],
   "source": [
    "import TSeriesPreproccesing as TSPP\n",
    "from importlib import reload\n"
   ]
  },
  {
   "cell_type": "code",
   "execution_count": 68,
   "metadata": {},
   "outputs": [
    {
     "data": {
      "text/plain": [
       "<module 'TSeriesPreproccesing' from '/home/ajp031/StockDeepLearning/StockDeepLearning/CleanUp/TSeriesPreproccesing.py'>"
      ]
     },
     "execution_count": 68,
     "metadata": {},
     "output_type": "execute_result"
    }
   ],
   "source": [
    "reload(TSPP)"
   ]
  },
  {
   "cell_type": "code",
   "execution_count": 69,
   "metadata": {},
   "outputs": [],
   "source": [
    "curSet = TSPP.StockDataSet(['aapl'],start = '2015-01-01',interval = '1d')"
   ]
  },
  {
   "cell_type": "code",
   "execution_count": 70,
   "metadata": {},
   "outputs": [
    {
     "name": "stdout",
     "output_type": "stream",
     "text": [
      "[*********************100%%**********************]  1 of 1 completed\n"
     ]
    },
    {
     "data": {
      "text/plain": [
       "2199"
      ]
     },
     "metadata": {},
     "output_type": "display_data"
    },
    {
     "data": {
      "text/plain": [
       "2199"
      ]
     },
     "metadata": {},
     "output_type": "display_data"
    }
   ],
   "source": [
    "curSet.create_dataset()\n",
    "display(len(curSet.dfs[0]))\n",
    "display(len(curSet.df))\n"
   ]
  },
  {
   "cell_type": "code",
   "execution_count": 75,
   "metadata": {},
   "outputs": [
    {
     "data": {
      "text/plain": [
       "open                  0\n",
       "high                  0\n",
       "low                   0\n",
       "close                 0\n",
       "volume                0\n",
       "                     ..\n",
       "sumPctChgclose_2-1    0\n",
       "sumPctChgclose_3-1    0\n",
       "sumPctChgclose_4-1    0\n",
       "sumPctChgclose_5-1    0\n",
       "sumPctChgclose_6-1    0\n",
       "Length: 132, dtype: int64"
      ]
     },
     "metadata": {},
     "output_type": "display_data"
    },
    {
     "data": {
      "text/html": [
       "<div>\n",
       "<style scoped>\n",
       "    .dataframe tbody tr th:only-of-type {\n",
       "        vertical-align: middle;\n",
       "    }\n",
       "\n",
       "    .dataframe tbody tr th {\n",
       "        vertical-align: top;\n",
       "    }\n",
       "\n",
       "    .dataframe thead th {\n",
       "        text-align: right;\n",
       "    }\n",
       "</style>\n",
       "<table border=\"1\" class=\"dataframe\">\n",
       "  <thead>\n",
       "    <tr style=\"text-align: right;\">\n",
       "      <th></th>\n",
       "      <th>open</th>\n",
       "      <th>high</th>\n",
       "      <th>low</th>\n",
       "      <th>close</th>\n",
       "      <th>volume</th>\n",
       "      <th>sma5</th>\n",
       "      <th>ema5</th>\n",
       "      <th>sma10</th>\n",
       "      <th>ema10</th>\n",
       "      <th>sma20</th>\n",
       "      <th>...</th>\n",
       "      <th>opCl-1</th>\n",
       "      <th>pctChgClOp-1</th>\n",
       "      <th>pctChgClLo-1</th>\n",
       "      <th>pctChgClHi-1</th>\n",
       "      <th>sumPctChgclose_1-1</th>\n",
       "      <th>sumPctChgclose_2-1</th>\n",
       "      <th>sumPctChgclose_3-1</th>\n",
       "      <th>sumPctChgclose_4-1</th>\n",
       "      <th>sumPctChgclose_5-1</th>\n",
       "      <th>sumPctChgclose_6-1</th>\n",
       "    </tr>\n",
       "    <tr>\n",
       "      <th>Date</th>\n",
       "      <th></th>\n",
       "      <th></th>\n",
       "      <th></th>\n",
       "      <th></th>\n",
       "      <th></th>\n",
       "      <th></th>\n",
       "      <th></th>\n",
       "      <th></th>\n",
       "      <th></th>\n",
       "      <th></th>\n",
       "      <th></th>\n",
       "      <th></th>\n",
       "      <th></th>\n",
       "      <th></th>\n",
       "      <th></th>\n",
       "      <th></th>\n",
       "      <th></th>\n",
       "      <th></th>\n",
       "      <th></th>\n",
       "      <th></th>\n",
       "      <th></th>\n",
       "    </tr>\n",
       "  </thead>\n",
       "  <tbody>\n",
       "    <tr>\n",
       "      <th>2015-01-02</th>\n",
       "      <td>27.847500</td>\n",
       "      <td>27.860001</td>\n",
       "      <td>26.837500</td>\n",
       "      <td>27.332500</td>\n",
       "      <td>212818400</td>\n",
       "      <td>27.074</td>\n",
       "      <td>27.074</td>\n",
       "      <td>27.2395</td>\n",
       "      <td>27.2395</td>\n",
       "      <td>27.660375</td>\n",
       "      <td>...</td>\n",
       "      <td>0.073900</td>\n",
       "      <td>0.026291</td>\n",
       "      <td>-0.963854</td>\n",
       "      <td>1.070778</td>\n",
       "      <td>0.100861</td>\n",
       "      <td>0.204162</td>\n",
       "      <td>0.307217</td>\n",
       "      <td>0.409502</td>\n",
       "      <td>0.510532</td>\n",
       "      <td>0.612519</td>\n",
       "    </tr>\n",
       "    <tr>\n",
       "      <th>2015-01-05</th>\n",
       "      <td>27.072500</td>\n",
       "      <td>27.162500</td>\n",
       "      <td>26.352501</td>\n",
       "      <td>26.562500</td>\n",
       "      <td>257142000</td>\n",
       "      <td>27.074</td>\n",
       "      <td>27.074</td>\n",
       "      <td>27.2395</td>\n",
       "      <td>27.2395</td>\n",
       "      <td>27.660375</td>\n",
       "      <td>...</td>\n",
       "      <td>-1.849356</td>\n",
       "      <td>0.026291</td>\n",
       "      <td>-0.963854</td>\n",
       "      <td>1.070778</td>\n",
       "      <td>0.100861</td>\n",
       "      <td>0.204162</td>\n",
       "      <td>0.307217</td>\n",
       "      <td>0.409502</td>\n",
       "      <td>0.510532</td>\n",
       "      <td>0.612519</td>\n",
       "    </tr>\n",
       "    <tr>\n",
       "      <th>2015-01-06</th>\n",
       "      <td>26.635000</td>\n",
       "      <td>26.857500</td>\n",
       "      <td>26.157499</td>\n",
       "      <td>26.565001</td>\n",
       "      <td>263188400</td>\n",
       "      <td>27.074</td>\n",
       "      <td>27.074</td>\n",
       "      <td>27.2395</td>\n",
       "      <td>27.2395</td>\n",
       "      <td>27.660375</td>\n",
       "      <td>...</td>\n",
       "      <td>-1.883831</td>\n",
       "      <td>-0.951249</td>\n",
       "      <td>-3.585473</td>\n",
       "      <td>-0.621970</td>\n",
       "      <td>-2.817161</td>\n",
       "      <td>0.204162</td>\n",
       "      <td>0.307217</td>\n",
       "      <td>0.409502</td>\n",
       "      <td>0.510532</td>\n",
       "      <td>0.612519</td>\n",
       "    </tr>\n",
       "    <tr>\n",
       "      <th>2015-01-07</th>\n",
       "      <td>26.799999</td>\n",
       "      <td>27.049999</td>\n",
       "      <td>26.674999</td>\n",
       "      <td>26.937500</td>\n",
       "      <td>160423600</td>\n",
       "      <td>27.074</td>\n",
       "      <td>27.074</td>\n",
       "      <td>27.2395</td>\n",
       "      <td>27.2395</td>\n",
       "      <td>27.660375</td>\n",
       "      <td>...</td>\n",
       "      <td>-0.262811</td>\n",
       "      <td>0.272942</td>\n",
       "      <td>-1.524708</td>\n",
       "      <td>1.110589</td>\n",
       "      <td>0.009414</td>\n",
       "      <td>-2.807747</td>\n",
       "      <td>0.307217</td>\n",
       "      <td>0.409502</td>\n",
       "      <td>0.510532</td>\n",
       "      <td>0.612519</td>\n",
       "    </tr>\n",
       "    <tr>\n",
       "      <th>2015-01-08</th>\n",
       "      <td>27.307501</td>\n",
       "      <td>28.037500</td>\n",
       "      <td>27.174999</td>\n",
       "      <td>27.972500</td>\n",
       "      <td>237458000</td>\n",
       "      <td>27.074</td>\n",
       "      <td>27.074</td>\n",
       "      <td>27.2395</td>\n",
       "      <td>27.2395</td>\n",
       "      <td>27.660375</td>\n",
       "      <td>...</td>\n",
       "      <td>0.513063</td>\n",
       "      <td>0.884618</td>\n",
       "      <td>0.414074</td>\n",
       "      <td>1.825706</td>\n",
       "      <td>1.402219</td>\n",
       "      <td>1.411633</td>\n",
       "      <td>-1.405528</td>\n",
       "      <td>0.409502</td>\n",
       "      <td>0.510532</td>\n",
       "      <td>0.612519</td>\n",
       "    </tr>\n",
       "  </tbody>\n",
       "</table>\n",
       "<p>5 rows × 132 columns</p>\n",
       "</div>"
      ],
      "text/plain": [
       "                 open       high        low      close     volume    sma5  \\\n",
       "Date                                                                        \n",
       "2015-01-02  27.847500  27.860001  26.837500  27.332500  212818400  27.074   \n",
       "2015-01-05  27.072500  27.162500  26.352501  26.562500  257142000  27.074   \n",
       "2015-01-06  26.635000  26.857500  26.157499  26.565001  263188400  27.074   \n",
       "2015-01-07  26.799999  27.049999  26.674999  26.937500  160423600  27.074   \n",
       "2015-01-08  27.307501  28.037500  27.174999  27.972500  237458000  27.074   \n",
       "\n",
       "              ema5    sma10    ema10      sma20  ...    opCl-1  pctChgClOp-1  \\\n",
       "Date                                             ...                           \n",
       "2015-01-02  27.074  27.2395  27.2395  27.660375  ...  0.073900      0.026291   \n",
       "2015-01-05  27.074  27.2395  27.2395  27.660375  ... -1.849356      0.026291   \n",
       "2015-01-06  27.074  27.2395  27.2395  27.660375  ... -1.883831     -0.951249   \n",
       "2015-01-07  27.074  27.2395  27.2395  27.660375  ... -0.262811      0.272942   \n",
       "2015-01-08  27.074  27.2395  27.2395  27.660375  ...  0.513063      0.884618   \n",
       "\n",
       "            pctChgClLo-1  pctChgClHi-1  sumPctChgclose_1-1  \\\n",
       "Date                                                         \n",
       "2015-01-02     -0.963854      1.070778            0.100861   \n",
       "2015-01-05     -0.963854      1.070778            0.100861   \n",
       "2015-01-06     -3.585473     -0.621970           -2.817161   \n",
       "2015-01-07     -1.524708      1.110589            0.009414   \n",
       "2015-01-08      0.414074      1.825706            1.402219   \n",
       "\n",
       "            sumPctChgclose_2-1  sumPctChgclose_3-1  sumPctChgclose_4-1  \\\n",
       "Date                                                                     \n",
       "2015-01-02            0.204162            0.307217            0.409502   \n",
       "2015-01-05            0.204162            0.307217            0.409502   \n",
       "2015-01-06            0.204162            0.307217            0.409502   \n",
       "2015-01-07           -2.807747            0.307217            0.409502   \n",
       "2015-01-08            1.411633           -1.405528            0.409502   \n",
       "\n",
       "            sumPctChgclose_5-1  sumPctChgclose_6-1  \n",
       "Date                                                \n",
       "2015-01-02            0.510532            0.612519  \n",
       "2015-01-05            0.510532            0.612519  \n",
       "2015-01-06            0.510532            0.612519  \n",
       "2015-01-07            0.510532            0.612519  \n",
       "2015-01-08            0.510532            0.612519  \n",
       "\n",
       "[5 rows x 132 columns]"
      ]
     },
     "metadata": {},
     "output_type": "display_data"
    }
   ],
   "source": [
    "curSet.create_features() \n",
    "display(curSet.dfs[0].isna().sum())\n",
    "display(curSet.df.head())"
   ]
  },
  {
   "cell_type": "code",
   "execution_count": null,
   "metadata": {},
   "outputs": [],
   "source": [
    "for col in curSet.dfs[0].columns:\n",
    "    display(col)"
   ]
  },
  {
   "cell_type": "code",
   "execution_count": 76,
   "metadata": {},
   "outputs": [
    {
     "data": {
      "text/html": [
       "<div>\n",
       "<style scoped>\n",
       "    .dataframe tbody tr th:only-of-type {\n",
       "        vertical-align: middle;\n",
       "    }\n",
       "\n",
       "    .dataframe tbody tr th {\n",
       "        vertical-align: top;\n",
       "    }\n",
       "\n",
       "    .dataframe thead th {\n",
       "        text-align: right;\n",
       "    }\n",
       "</style>\n",
       "<table border=\"1\" class=\"dataframe\">\n",
       "  <thead>\n",
       "    <tr style=\"text-align: right;\">\n",
       "      <th></th>\n",
       "      <th>pctChgclose</th>\n",
       "      <th>sumPctChgclose_1</th>\n",
       "      <th>sumPctChgclose_2</th>\n",
       "      <th>sumPctChgclose_3</th>\n",
       "    </tr>\n",
       "    <tr>\n",
       "      <th>Date</th>\n",
       "      <th></th>\n",
       "      <th></th>\n",
       "      <th></th>\n",
       "      <th></th>\n",
       "    </tr>\n",
       "  </thead>\n",
       "  <tbody>\n",
       "    <tr>\n",
       "      <th>2015-01-02</th>\n",
       "      <td>0.100900</td>\n",
       "      <td>0.100900</td>\n",
       "      <td>0.203089</td>\n",
       "      <td>0.306433</td>\n",
       "    </tr>\n",
       "    <tr>\n",
       "      <th>2015-01-05</th>\n",
       "      <td>-2.817161</td>\n",
       "      <td>-2.817161</td>\n",
       "      <td>0.203089</td>\n",
       "      <td>0.306433</td>\n",
       "    </tr>\n",
       "    <tr>\n",
       "      <th>2015-01-06</th>\n",
       "      <td>0.009414</td>\n",
       "      <td>0.009414</td>\n",
       "      <td>-2.807747</td>\n",
       "      <td>0.306433</td>\n",
       "    </tr>\n",
       "    <tr>\n",
       "      <th>2015-01-07</th>\n",
       "      <td>1.402219</td>\n",
       "      <td>1.402219</td>\n",
       "      <td>1.411633</td>\n",
       "      <td>-1.405528</td>\n",
       "    </tr>\n",
       "    <tr>\n",
       "      <th>2015-01-08</th>\n",
       "      <td>3.842227</td>\n",
       "      <td>3.842227</td>\n",
       "      <td>5.244446</td>\n",
       "      <td>5.253860</td>\n",
       "    </tr>\n",
       "    <tr>\n",
       "      <th>2015-01-09</th>\n",
       "      <td>0.107251</td>\n",
       "      <td>0.107251</td>\n",
       "      <td>3.949477</td>\n",
       "      <td>5.351696</td>\n",
       "    </tr>\n",
       "    <tr>\n",
       "      <th>2015-01-12</th>\n",
       "      <td>-2.464068</td>\n",
       "      <td>-2.464068</td>\n",
       "      <td>-2.356817</td>\n",
       "      <td>1.485410</td>\n",
       "    </tr>\n",
       "    <tr>\n",
       "      <th>2015-01-13</th>\n",
       "      <td>0.887873</td>\n",
       "      <td>0.887873</td>\n",
       "      <td>-1.576195</td>\n",
       "      <td>-1.468944</td>\n",
       "    </tr>\n",
       "    <tr>\n",
       "      <th>2015-01-14</th>\n",
       "      <td>-0.381054</td>\n",
       "      <td>-0.381054</td>\n",
       "      <td>0.506819</td>\n",
       "      <td>-1.957249</td>\n",
       "    </tr>\n",
       "    <tr>\n",
       "      <th>2015-01-15</th>\n",
       "      <td>-2.714028</td>\n",
       "      <td>-2.714028</td>\n",
       "      <td>-3.095083</td>\n",
       "      <td>-2.207210</td>\n",
       "    </tr>\n",
       "  </tbody>\n",
       "</table>\n",
       "</div>"
      ],
      "text/plain": [
       "            pctChgclose  sumPctChgclose_1  sumPctChgclose_2  sumPctChgclose_3\n",
       "Date                                                                         \n",
       "2015-01-02     0.100900          0.100900          0.203089          0.306433\n",
       "2015-01-05    -2.817161         -2.817161          0.203089          0.306433\n",
       "2015-01-06     0.009414          0.009414         -2.807747          0.306433\n",
       "2015-01-07     1.402219          1.402219          1.411633         -1.405528\n",
       "2015-01-08     3.842227          3.842227          5.244446          5.253860\n",
       "2015-01-09     0.107251          0.107251          3.949477          5.351696\n",
       "2015-01-12    -2.464068         -2.464068         -2.356817          1.485410\n",
       "2015-01-13     0.887873          0.887873         -1.576195         -1.468944\n",
       "2015-01-14    -0.381054         -0.381054          0.506819         -1.957249\n",
       "2015-01-15    -2.714028         -2.714028         -3.095083         -2.207210"
      ]
     },
     "execution_count": 76,
     "metadata": {},
     "output_type": "execute_result"
    }
   ],
   "source": [
    "curSet.df[['pctChgclose','sumPctChgclose_1','sumPctChgclose_2','sumPctChgclose_3']].head(10)"
   ]
  },
  {
   "cell_type": "code",
   "execution_count": null,
   "metadata": {},
   "outputs": [],
   "source": []
  },
  {
   "cell_type": "code",
   "execution_count": 77,
   "metadata": {},
   "outputs": [
    {
     "data": {
      "text/plain": [
       "Index(['open', 'high', 'low', 'close', 'volume', 'sma5', 'ema5', 'sma10',\n",
       "       'ema10', 'sma20',\n",
       "       ...\n",
       "       'opCl-1', 'pctChgClOp-1', 'pctChgClLo-1', 'pctChgClHi-1',\n",
       "       'sumPctChgclose_1-1', 'sumPctChgclose_2-1', 'sumPctChgclose_3-1',\n",
       "       'sumPctChgclose_4-1', 'sumPctChgclose_5-1', 'sumPctChgclose_6-1'],\n",
       "      dtype='object', length=132)"
      ]
     },
     "execution_count": 77,
     "metadata": {},
     "output_type": "execute_result"
    }
   ],
   "source": [
    "curSet.df.columns"
   ]
  },
  {
   "cell_type": "code",
   "execution_count": 80,
   "metadata": {},
   "outputs": [
    {
     "data": {
      "text/plain": [
       "Index(['open', 'high', 'low', 'close', 'volume', 'sma5', 'ema5', 'sma10',\n",
       "       'ema10', 'sma20',\n",
       "       ...\n",
       "       'opCl-1', 'pctChgClOp-1', 'pctChgClLo-1', 'pctChgClHi-1',\n",
       "       'sumPctChgclose_1-1', 'sumPctChgclose_2-1', 'sumPctChgclose_3-1',\n",
       "       'sumPctChgclose_4-1', 'sumPctChgclose_5-1', 'sumPctChgclose_6-1'],\n",
       "      dtype='object', length=132)"
      ]
     },
     "metadata": {},
     "output_type": "display_data"
    },
    {
     "ename": "KeyError",
     "evalue": "\"['pctChgclose+1', 'pctChgclose+2', 'pctChgclose+3', 'pctChgclose+4', 'pctChgclose+5'] not in index\"",
     "output_type": "error",
     "traceback": [
      "\u001b[0;31m---------------------------------------------------------------------------\u001b[0m",
      "\u001b[0;31mKeyError\u001b[0m                                  Traceback (most recent call last)",
      "Cell \u001b[0;32mIn[80], line 4\u001b[0m\n\u001b[1;32m      2\u001b[0m curSet\u001b[39m.\u001b[39mcreate_y_targets(target_cols)\n\u001b[1;32m      3\u001b[0m display(curSet\u001b[39m.\u001b[39mdf\u001b[39m.\u001b[39mcolumns)\n\u001b[0;32m----> 4\u001b[0m display(curSet\u001b[39m.\u001b[39;49mdf[[\u001b[39m'\u001b[39;49m\u001b[39mpctChgclose\u001b[39;49m\u001b[39m'\u001b[39;49m,\u001b[39m'\u001b[39;49m\u001b[39mpctChgclose+1\u001b[39;49m\u001b[39m'\u001b[39;49m,\u001b[39m'\u001b[39;49m\u001b[39mpctChgclose+2\u001b[39;49m\u001b[39m'\u001b[39;49m,\u001b[39m'\u001b[39;49m\u001b[39mpctChgclose+3\u001b[39;49m\u001b[39m'\u001b[39;49m,\u001b[39m'\u001b[39;49m\u001b[39mpctChgclose+4\u001b[39;49m\u001b[39m'\u001b[39;49m,\u001b[39m'\u001b[39;49m\u001b[39mpctChgclose+5\u001b[39;49m\u001b[39m'\u001b[39;49m]]\u001b[39m.\u001b[39mhead(\u001b[39m10\u001b[39m))\n",
      "File \u001b[0;32m/usr/remote/apps/anaconda/2023.03-acet116/lib/python3.10/site-packages/pandas/core/frame.py:3813\u001b[0m, in \u001b[0;36mDataFrame.__getitem__\u001b[0;34m(self, key)\u001b[0m\n\u001b[1;32m   3811\u001b[0m     \u001b[39mif\u001b[39;00m is_iterator(key):\n\u001b[1;32m   3812\u001b[0m         key \u001b[39m=\u001b[39m \u001b[39mlist\u001b[39m(key)\n\u001b[0;32m-> 3813\u001b[0m     indexer \u001b[39m=\u001b[39m \u001b[39mself\u001b[39;49m\u001b[39m.\u001b[39;49mcolumns\u001b[39m.\u001b[39;49m_get_indexer_strict(key, \u001b[39m\"\u001b[39;49m\u001b[39mcolumns\u001b[39;49m\u001b[39m\"\u001b[39;49m)[\u001b[39m1\u001b[39m]\n\u001b[1;32m   3815\u001b[0m \u001b[39m# take() does not accept boolean indexers\u001b[39;00m\n\u001b[1;32m   3816\u001b[0m \u001b[39mif\u001b[39;00m \u001b[39mgetattr\u001b[39m(indexer, \u001b[39m\"\u001b[39m\u001b[39mdtype\u001b[39m\u001b[39m\"\u001b[39m, \u001b[39mNone\u001b[39;00m) \u001b[39m==\u001b[39m \u001b[39mbool\u001b[39m:\n",
      "File \u001b[0;32m/usr/remote/apps/anaconda/2023.03-acet116/lib/python3.10/site-packages/pandas/core/indexes/base.py:6070\u001b[0m, in \u001b[0;36mIndex._get_indexer_strict\u001b[0;34m(self, key, axis_name)\u001b[0m\n\u001b[1;32m   6067\u001b[0m \u001b[39melse\u001b[39;00m:\n\u001b[1;32m   6068\u001b[0m     keyarr, indexer, new_indexer \u001b[39m=\u001b[39m \u001b[39mself\u001b[39m\u001b[39m.\u001b[39m_reindex_non_unique(keyarr)\n\u001b[0;32m-> 6070\u001b[0m \u001b[39mself\u001b[39;49m\u001b[39m.\u001b[39;49m_raise_if_missing(keyarr, indexer, axis_name)\n\u001b[1;32m   6072\u001b[0m keyarr \u001b[39m=\u001b[39m \u001b[39mself\u001b[39m\u001b[39m.\u001b[39mtake(indexer)\n\u001b[1;32m   6073\u001b[0m \u001b[39mif\u001b[39;00m \u001b[39misinstance\u001b[39m(key, Index):\n\u001b[1;32m   6074\u001b[0m     \u001b[39m# GH 42790 - Preserve name from an Index\u001b[39;00m\n",
      "File \u001b[0;32m/usr/remote/apps/anaconda/2023.03-acet116/lib/python3.10/site-packages/pandas/core/indexes/base.py:6133\u001b[0m, in \u001b[0;36mIndex._raise_if_missing\u001b[0;34m(self, key, indexer, axis_name)\u001b[0m\n\u001b[1;32m   6130\u001b[0m     \u001b[39mraise\u001b[39;00m \u001b[39mKeyError\u001b[39;00m(\u001b[39mf\u001b[39m\u001b[39m\"\u001b[39m\u001b[39mNone of [\u001b[39m\u001b[39m{\u001b[39;00mkey\u001b[39m}\u001b[39;00m\u001b[39m] are in the [\u001b[39m\u001b[39m{\u001b[39;00maxis_name\u001b[39m}\u001b[39;00m\u001b[39m]\u001b[39m\u001b[39m\"\u001b[39m)\n\u001b[1;32m   6132\u001b[0m not_found \u001b[39m=\u001b[39m \u001b[39mlist\u001b[39m(ensure_index(key)[missing_mask\u001b[39m.\u001b[39mnonzero()[\u001b[39m0\u001b[39m]]\u001b[39m.\u001b[39munique())\n\u001b[0;32m-> 6133\u001b[0m \u001b[39mraise\u001b[39;00m \u001b[39mKeyError\u001b[39;00m(\u001b[39mf\u001b[39m\u001b[39m\"\u001b[39m\u001b[39m{\u001b[39;00mnot_found\u001b[39m}\u001b[39;00m\u001b[39m not in index\u001b[39m\u001b[39m\"\u001b[39m)\n",
      "\u001b[0;31mKeyError\u001b[0m: \"['pctChgclose+1', 'pctChgclose+2', 'pctChgclose+3', 'pctChgclose+4', 'pctChgclose+5'] not in index\""
     ]
    }
   ],
   "source": [
    "target_cols = [col for col in curSet.df.columns if 'sumPctChgclose_' in col and '-' not in col]\n",
    "curSet.create_y_targets(target_cols)\n",
    "display(curSet.df.columns)\n",
    "display(curSet.df[['pctChgclose','pctChgclose+1','pctChgclose+2','pctChgclose+3','pctChgclose+4','pctChgclose+5']].head(10))"
   ]
  },
  {
   "cell_type": "code",
   "execution_count": null,
   "metadata": {},
   "outputs": [],
   "source": []
  },
  {
   "cell_type": "code",
   "execution_count": null,
   "metadata": {},
   "outputs": [],
   "source": []
  }
 ],
 "metadata": {
  "kernelspec": {
   "display_name": "Python 3",
   "language": "python",
   "name": "python3"
  },
  "language_info": {
   "codemirror_mode": {
    "name": "ipython",
    "version": 3
   },
   "file_extension": ".py",
   "mimetype": "text/x-python",
   "name": "python",
   "nbconvert_exporter": "python",
   "pygments_lexer": "ipython3",
   "version": "3.10.9"
  },
  "orig_nbformat": 4
 },
 "nbformat": 4,
 "nbformat_minor": 2
}
